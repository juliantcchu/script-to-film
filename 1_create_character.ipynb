{
 "cells": [
  {
   "cell_type": "code",
   "execution_count": 3,
   "metadata": {},
   "outputs": [],
   "source": [
    "import json\n",
    "import random\n",
    "import string\n",
    "\n",
    "# User Input\n",
    "################################################\n",
    "\n",
    "working_dir = '/Users/julianchu/Desktop/new_series'\n",
    "\n",
    "project_name = 'drama4'\n",
    "\n",
    "characters = {\n",
    "    \"Claire\": \"A creative and determined woman in her late 20s with fair skin, wavy auburn hair often tied back in a loose ponytail, and expressive green eyes. She is usually dressed in a floral apron dusted with flour over casual sweaters and jeans, pairing practicality with charm. Claire's warm smile belies her frazzled energy as she juggles her struggling business and personal dilemmas.\",\n",
    "    \"Ryan\": \"A laid-back and supportive man in his early 30s with a lanky but athletic build. He has messy dark brown hair, warm hazel eyes, and a perpetual five o'clock shadow. Ryan's casual wardrobe of flannels, jeans, and sneakers reflects his easygoing personality. He often carries a thermos of coffee or a donut, ready with a quick-witted remark and a helping hand.\",\n",
    "}\n",
    "\n",
    "style = \"A Japanese shonen anime shot\"\n",
    "\n",
    "################################################\n",
    "\n",
    "\n",
    "trigger_words = {}\n",
    "for character in characters:\n",
    "    # Generate random 4-character string\n",
    "    random_str = ''.join(random.choices(string.ascii_lowercase + string.digits, k=4))\n",
    "    trigger_word = f\"{random_str}_{character.lower()}\"\n",
    "    trigger_words[character] = trigger_word\n",
    "    print(f\"Trigger word for {character}: {trigger_word}\")\n",
    "\n",
    "\n",
    "# Create character config dictionary with trigger words\n",
    "character_config = {\n",
    "    \"project_name\": project_name,\n",
    "    \"characters\": {\n",
    "        trigger_words[character]: {\n",
    "            \"name\": character,\n",
    "            \"description\": description,\n",
    "            \"trigger_word\": trigger_words[character], \n",
    "            \"finetune\": True # set to false in the config if you don't want to finetune that character\n",
    "        } for character, description in characters.items()\n",
    "    },\n",
    "    \"style\": style\n",
    "}\n",
    "\n",
    "# Check if config file already exists\n",
    "import os\n",
    "if os.path.exists(f'{working_dir}/character_config.json'):\n",
    "    raise FileExistsError(f\"Config file already exists at {working_dir}/character_config.json\")\n",
    "\n",
    "\n",
    "\n",
    "with open(f'{working_dir}/character_config.json', 'w') as f:\n",
    "    json.dump(character_config, f, indent=2)\n",
    "\n",
    "\n"
   ]
  },
  {
   "cell_type": "code",
   "execution_count": 4,
   "metadata": {},
   "outputs": [
    {
     "data": {
      "text/plain": [
       "{'characters': {'mdg4_claire': {'name': 'Claire',\n",
       "   'description': \"A creative and determined woman in her late 20s with fair skin, wavy auburn hair often tied back in a loose ponytail, and expressive green eyes. She is usually dressed in a floral apron dusted with flour over casual sweaters and jeans, pairing practicality with charm. Claire's warm smile belies her frazzled energy as she juggles her struggling business and personal dilemmas.\",\n",
       "   'trigger_word': 'mdg4_claire',\n",
       "   'finetune': True},\n",
       "  'ikzg_ryan': {'name': 'Ryan',\n",
       "   'description': \"A laid-back and supportive man in his early 30s with a lanky but athletic build. He has messy dark brown hair, warm hazel eyes, and a perpetual five o'clock shadow. Ryan's casual wardrobe of flannels, jeans, and sneakers reflects his easygoing personality. He often carries a thermos of coffee or a donut, ready with a quick-witted remark and a helping hand.\",\n",
       "   'trigger_word': 'ikzg_ryan',\n",
       "   'finetune': False,\n",
       "   'finetuned_model': 'juliantcchu/model_1'}},\n",
       " 'style': 'A Japanese shonen anime shot'}"
      ]
     },
     "execution_count": 4,
     "metadata": {},
     "output_type": "execute_result"
    }
   ],
   "source": [
    "config_file = 'character_config.json'\n",
    "\n",
    "# Load character config\n",
    "with open(f'{working_dir}/{config_file}', 'r') as f:\n",
    "    character_config = json.load(f)\n",
    "character_config"
   ]
  },
  {
   "cell_type": "code",
   "execution_count": 31,
   "metadata": {},
   "outputs": [
    {
     "name": "stdout",
     "output_type": "stream",
     "text": [
      "Generating image for mdg4_claire...\n",
      "mdg4_claire image generated and saved as /Users/julianchu/Desktop/new_series/characters/mdg4_claire.jpg\n",
      "\n",
      "Generating image for ikzg_ryan...\n",
      "ikzg_ryan image generated and saved as /Users/julianchu/Desktop/new_series/characters/ikzg_ryan.jpg\n",
      "\n"
     ]
    }
   ],
   "source": [
    "from character_creation import generate_character_images\n",
    "\n",
    "for character in character_config['characters']:\n",
    "    generate_character_images(character, character_config['characters'][character], character_config['style'], working_dir) # prompt will be {style} of {description}"
   ]
  },
  {
   "cell_type": "code",
   "execution_count": 32,
   "metadata": {},
   "outputs": [
    {
     "name": "stdout",
     "output_type": "stream",
     "text": [
      "Variation 1 saved as /Users/julianchu/Desktop/new_series/characters/mdg4_claire/variation_1.jpg\n",
      "Variation 2 saved as /Users/julianchu/Desktop/new_series/characters/mdg4_claire/variation_2.jpg\n",
      "Generated variations for mdg4_claire\n",
      "\n"
     ]
    }
   ],
   "source": [
    "from character_creation import generate_character_variations\n",
    "\n",
    "for character in character_config['characters']:\n",
    "    if character_config['characters'][character]['finetune']:\n",
    "        generate_character_variations(character, character_config['style'], working_dir, number_of_outputs=2)\n"
   ]
  },
  {
   "cell_type": "code",
   "execution_count": 34,
   "metadata": {},
   "outputs": [
    {
     "name": "stdout",
     "output_type": "stream",
     "text": [
      "Processed variation 1 for mdg4_claire: mdg4_claire is looking over her shoulder and smiling softly while holding a large piece of pink crystal or mineral.\n",
      "Zipped /Users/julianchu/Desktop/new_series/characters/mdg4_claire to /Users/julianchu/Desktop/new_series/characters/mdg4_claire.zip\n",
      "Processed variation 2 for mdg4_claire: mdg4_claire is looking forward with a slight smile, holding up an object in one hand and touching her hair with the other.\n",
      "Zipped /Users/julianchu/Desktop/new_series/characters/mdg4_claire to /Users/julianchu/Desktop/new_series/characters/mdg4_claire.zip\n",
      "Skipping ikzg_ryan as finetune is False\n",
      "\n",
      "All variations processed with corresponding caption files\n"
     ]
    }
   ],
   "source": [
    "from character_creation import process_variations_for_finetuning\n",
    "\n",
    "process_variations_for_finetuning(character_config, working_dir, zip_dir=True)\n"
   ]
  },
  {
   "cell_type": "code",
   "execution_count": null,
   "metadata": {},
   "outputs": [],
   "source": [
    "from character_creation import finetune_character\n",
    "\n",
    "# Finetune characters and save model paths\n",
    "for character in character_config['characters']:\n",
    "    if character_config['characters'][character]['finetune']:\n",
    "        # Finetune the character and get model path\n",
    "        model_path = finetune_character(working_dir, character)\n",
    "        \n",
    "        # Save the model path in the config\n",
    "        character_config['characters'][character]['finetuned_model'] = model_path\n",
    "\n",
    "# Save updated config back to file\n",
    "with open(f'{working_dir}/{config_file}', 'w') as f:\n",
    "    json.dump(character_config, f, indent=2)\n"
   ]
  }
 ],
 "metadata": {
  "kernelspec": {
   "display_name": "venv",
   "language": "python",
   "name": "python3"
  },
  "language_info": {
   "codemirror_mode": {
    "name": "ipython",
    "version": 3
   },
   "file_extension": ".py",
   "mimetype": "text/x-python",
   "name": "python",
   "nbconvert_exporter": "python",
   "pygments_lexer": "ipython3",
   "version": "3.11.8"
  }
 },
 "nbformat": 4,
 "nbformat_minor": 2
}
