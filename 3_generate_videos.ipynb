{
 "cells": [
  {
   "cell_type": "code",
   "execution_count": 3,
   "metadata": {},
   "outputs": [
    {
     "data": {
      "text/plain": [
       "{'characters': {'mdg4_claire': {'name': 'Claire',\n",
       "   'description': \"A creative and determined woman in her late 20s with fair skin, wavy auburn hair often tied back in a loose ponytail, and expressive green eyes. She is usually dressed in a floral apron dusted with flour over casual sweaters and jeans, pairing practicality with charm. Claire's warm smile belies her frazzled energy as she juggles her struggling business and personal dilemmas.\",\n",
       "   'trigger_word': 'mdg4_claire',\n",
       "   'finetune': True},\n",
       "  'ikzg_ryan': {'name': 'Ryan',\n",
       "   'description': \"A laid-back and supportive man in his early 30s with a lanky but athletic build. He has messy dark brown hair, warm hazel eyes, and a perpetual five o'clock shadow. Ryan's casual wardrobe of flannels, jeans, and sneakers reflects his easygoing personality. He often carries a thermos of coffee or a donut, ready with a quick-witted remark and a helping hand.\",\n",
       "   'trigger_word': 'ikzg_ryan',\n",
       "   'finetune': False,\n",
       "   'finetuned_model': 'juliantcchu/model_1'}},\n",
       " 'style': 'A Japanese shonen anime shot'}"
      ]
     },
     "execution_count": 3,
     "metadata": {},
     "output_type": "execute_result"
    }
   ],
   "source": [
    "import json\n",
    "\n",
    "# User Input\n",
    "################################################\n",
    "\n",
    "working_dir = '/Users/julianchu/Desktop/new_series'\n",
    "config_file = 'character_config.json'\n",
    "\n",
    "scenes = ['scene_1', 'scene_2', 'scene_3']\n",
    "\n",
    "################################################\n",
    "\n",
    "\n",
    "with open(f'{working_dir}/{config_file}', 'r') as f:\n",
    "    character_config = json.load(f)\n",
    "\n",
    "character_config\n"
   ]
  },
  {
   "cell_type": "code",
   "execution_count": null,
   "metadata": {},
   "outputs": [],
   "source": [
    "from video_generation import generate_scene_videos\n",
    "\n",
    "# Generate videos for all scenes\n",
    "for scene in scenes:\n",
    "    try:\n",
    "        generate_scene_videos(scene, working_dir)\n",
    "    except Exception as e:\n",
    "        print(f\"Error generating videos for {scene}: {str(e)}\")\n"
   ]
  }
 ],
 "metadata": {
  "kernelspec": {
   "display_name": "venv",
   "language": "python",
   "name": "python3"
  },
  "language_info": {
   "codemirror_mode": {
    "name": "ipython",
    "version": 3
   },
   "file_extension": ".py",
   "mimetype": "text/x-python",
   "name": "python",
   "nbconvert_exporter": "python",
   "pygments_lexer": "ipython3",
   "version": "3.11.8"
  }
 },
 "nbformat": 4,
 "nbformat_minor": 2
}
